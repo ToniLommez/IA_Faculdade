{
 "cells": [
  {
   "cell_type": "code",
   "execution_count": 12,
   "metadata": {},
   "outputs": [],
   "source": [
    "import pandas as pd\n",
    "from apyori import apriori"
   ]
  },
  {
   "cell_type": "code",
   "execution_count": 13,
   "metadata": {},
   "outputs": [],
   "source": [
    "# 1. Load the dataset\n",
    "base = pd.read_csv('MercadoSim.csv', delimiter=';', encoding='utf-8', header=None)\n",
    "\n",
    "# 2. Create transactions representing the absence of an item AND the presence of others\n",
    "all_rules = []\n",
    "unique_items = pd.unique(base.values.ravel('K'))\n",
    "unique_items = unique_items[~pd.isnull(unique_items)]\n",
    "\n",
    "for item in unique_items:\n",
    "    # Create transactions where the item is absent\n",
    "    absent_transactions = base[base.isnull().any(axis=1) & (base != item).all(axis=1)].values.tolist()\n",
    "    absent_transactions = [[elem for elem in trans if isinstance(elem, str)] + [f\"NOT_{item}\"] for trans in absent_transactions]\n",
    "\n",
    "    # Apply Apriori\n",
    "    regras = apriori(absent_transactions, min_support=0.3, min_confidence=0.8)\n",
    "    all_rules.extend(list(regras))\n",
    "\n",
    "# Filter and print rules where the antecedent is the absence of an item\n",
    "filtered_rules = [rule for rule in all_rules if any([\"NOT_\" in item for item in rule[0]]) and len(rule[0]) > 1]\n",
    "for rule in filtered_rules:\n",
    "    print(rule)"
   ]
  },
  {
   "cell_type": "code",
   "execution_count": 14,
   "metadata": {},
   "outputs": [
    {
     "data": {
      "text/html": [
       "<div>\n",
       "<style scoped>\n",
       "    .dataframe tbody tr th:only-of-type {\n",
       "        vertical-align: middle;\n",
       "    }\n",
       "\n",
       "    .dataframe tbody tr th {\n",
       "        vertical-align: top;\n",
       "    }\n",
       "\n",
       "    .dataframe thead th {\n",
       "        text-align: right;\n",
       "    }\n",
       "</style>\n",
       "<table border=\"1\" class=\"dataframe\">\n",
       "  <thead>\n",
       "    <tr style=\"text-align: right;\">\n",
       "      <th></th>\n",
       "      <th>Antecedente</th>\n",
       "      <th>Consequente</th>\n",
       "      <th>Suporte</th>\n",
       "      <th>Confiança</th>\n",
       "      <th>Lift</th>\n",
       "    </tr>\n",
       "  </thead>\n",
       "  <tbody>\n",
       "  </tbody>\n",
       "</table>\n",
       "</div>"
      ],
      "text/plain": [
       "Empty DataFrame\n",
       "Columns: [Antecedente, Consequente, Suporte, Confiança, Lift]\n",
       "Index: []"
      ]
     },
     "execution_count": 14,
     "metadata": {},
     "output_type": "execute_result"
    }
   ],
   "source": [
    "# Listas para armazenar informações sobre as regras\n",
    "Antecedente = []\n",
    "Consequente = []\n",
    "suporte = []\n",
    "confianca = []\n",
    "lift = []\n",
    "\n",
    "# Processando cada regra filtrada\n",
    "for rule in filtered_rules:\n",
    "    s = rule[1]\n",
    "    result_rules = rule[2]\n",
    "    for result_rule in result_rules:\n",
    "        a = list(result_rule[0])\n",
    "        b = list(result_rule[1])\n",
    "        c = result_rule[2]\n",
    "        l = result_rule[3]\n",
    "        \n",
    "        # Filtrando regras que contêm 'nan' e garantindo que os antecedentes/consequentes não estejam vazios\n",
    "        if 'nan' in a or 'nan' in b: continue\n",
    "        if len(a) == 0 or len(b) == 0: continue\n",
    "        \n",
    "        # Adicionando os detalhes à lista\n",
    "        Antecedente.append(a)\n",
    "        Consequente.append(b)\n",
    "        suporte.append(s)\n",
    "        confianca.append(c)\n",
    "        lift.append(l)\n",
    "\n",
    "# Criando o DataFrame final com os detalhes das regras\n",
    "RegrasFinais = pd.DataFrame({\n",
    "    'Antecedente': Antecedente,\n",
    "    'Consequente': Consequente,\n",
    "    'Suporte': suporte,\n",
    "    'Confiança': confianca,\n",
    "    'Lift': lift\n",
    "})\n",
    "\n",
    "RegrasFinais"
   ]
  },
  {
   "cell_type": "code",
   "execution_count": null,
   "metadata": {},
   "outputs": [],
   "source": []
  }
 ],
 "metadata": {
  "kernelspec": {
   "display_name": "Python 3",
   "language": "python",
   "name": "python3"
  },
  "language_info": {
   "codemirror_mode": {
    "name": "ipython",
    "version": 3
   },
   "file_extension": ".py",
   "mimetype": "text/x-python",
   "name": "python",
   "nbconvert_exporter": "python",
   "pygments_lexer": "ipython3",
   "version": "3.11.5"
  }
 },
 "nbformat": 4,
 "nbformat_minor": 2
}
