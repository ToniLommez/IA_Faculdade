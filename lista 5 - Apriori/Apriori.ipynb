{
  "cells": [
    {
      "cell_type": "markdown",
      "metadata": {
        "id": "qm5lmIq9Xe-a"
      },
      "source": [
        "**Regras de associação**\n",
        "\n",
        "**Algoritmo Apriori**\n",
        "\n",
        "**Veja: https://www.youtube.com/watch?v=0v6PiOpsJi8** "
      ]
    },
    {
      "cell_type": "code",
      "execution_count": 35,
      "metadata": {
        "colab": {
          "base_uri": "https://localhost:8080/"
        },
        "id": "2bZM-_AsBVca",
        "outputId": "22733a89-43fb-4ece-cc20-f21516a6c881"
      },
      "outputs": [],
      "source": [
        "# !pip install apyori"
      ]
    },
    {
      "cell_type": "code",
      "execution_count": 36,
      "metadata": {
        "id": "m3d_ivF4Bcn5"
      },
      "outputs": [],
      "source": [
        "import pandas as pd\n",
        "from apyori import apriori"
      ]
    },
    {
      "cell_type": "code",
      "execution_count": 37,
      "metadata": {
        "colab": {
          "base_uri": "https://localhost:8080/",
          "height": 449
        },
        "id": "fGx34zCzBkw1",
        "outputId": "d719f509-7f66-424f-b88d-d1dddfc37b41"
      },
      "outputs": [
        {
          "data": {
            "text/html": [
              "<div>\n",
              "<style scoped>\n",
              "    .dataframe tbody tr th:only-of-type {\n",
              "        vertical-align: middle;\n",
              "    }\n",
              "\n",
              "    .dataframe tbody tr th {\n",
              "        vertical-align: top;\n",
              "    }\n",
              "\n",
              "    .dataframe thead th {\n",
              "        text-align: right;\n",
              "    }\n",
              "</style>\n",
              "<table border=\"1\" class=\"dataframe\">\n",
              "  <thead>\n",
              "    <tr style=\"text-align: right;\">\n",
              "      <th></th>\n",
              "      <th>0</th>\n",
              "      <th>1</th>\n",
              "      <th>2</th>\n",
              "      <th>3</th>\n",
              "      <th>4</th>\n",
              "      <th>5</th>\n",
              "      <th>6</th>\n",
              "    </tr>\n",
              "  </thead>\n",
              "  <tbody>\n",
              "    <tr>\n",
              "      <th>0</th>\n",
              "      <td>NaN</td>\n",
              "      <td>Cafe</td>\n",
              "      <td>NaN</td>\n",
              "      <td>Pao</td>\n",
              "      <td>Manteiga</td>\n",
              "      <td>NaN</td>\n",
              "      <td>NaN</td>\n",
              "    </tr>\n",
              "    <tr>\n",
              "      <th>1</th>\n",
              "      <td>Leite</td>\n",
              "      <td>NaN</td>\n",
              "      <td>Cerveja</td>\n",
              "      <td>Pao</td>\n",
              "      <td>Manteiga</td>\n",
              "      <td>NaN</td>\n",
              "      <td>NaN</td>\n",
              "    </tr>\n",
              "    <tr>\n",
              "      <th>2</th>\n",
              "      <td>NaN</td>\n",
              "      <td>Cafe</td>\n",
              "      <td>NaN</td>\n",
              "      <td>Pao</td>\n",
              "      <td>Manteiga</td>\n",
              "      <td>NaN</td>\n",
              "      <td>NaN</td>\n",
              "    </tr>\n",
              "    <tr>\n",
              "      <th>3</th>\n",
              "      <td>Leite</td>\n",
              "      <td>Cafe</td>\n",
              "      <td>NaN</td>\n",
              "      <td>Pao</td>\n",
              "      <td>Manteiga</td>\n",
              "      <td>NaN</td>\n",
              "      <td>NaN</td>\n",
              "    </tr>\n",
              "    <tr>\n",
              "      <th>4</th>\n",
              "      <td>NaN</td>\n",
              "      <td>NaN</td>\n",
              "      <td>Cerveja</td>\n",
              "      <td>NaN</td>\n",
              "      <td>NaN</td>\n",
              "      <td>NaN</td>\n",
              "      <td>NaN</td>\n",
              "    </tr>\n",
              "    <tr>\n",
              "      <th>5</th>\n",
              "      <td>NaN</td>\n",
              "      <td>NaN</td>\n",
              "      <td>NaN</td>\n",
              "      <td>NaN</td>\n",
              "      <td>Manteiga</td>\n",
              "      <td>NaN</td>\n",
              "      <td>NaN</td>\n",
              "    </tr>\n",
              "    <tr>\n",
              "      <th>6</th>\n",
              "      <td>NaN</td>\n",
              "      <td>NaN</td>\n",
              "      <td>NaN</td>\n",
              "      <td>Pao</td>\n",
              "      <td>NaN</td>\n",
              "      <td>NaN</td>\n",
              "      <td>NaN</td>\n",
              "    </tr>\n",
              "    <tr>\n",
              "      <th>7</th>\n",
              "      <td>NaN</td>\n",
              "      <td>NaN</td>\n",
              "      <td>NaN</td>\n",
              "      <td>NaN</td>\n",
              "      <td>NaN</td>\n",
              "      <td>NaN</td>\n",
              "      <td>Feijao</td>\n",
              "    </tr>\n",
              "    <tr>\n",
              "      <th>8</th>\n",
              "      <td>NaN</td>\n",
              "      <td>NaN</td>\n",
              "      <td>NaN</td>\n",
              "      <td>NaN</td>\n",
              "      <td>NaN</td>\n",
              "      <td>Arroz</td>\n",
              "      <td>Feijao</td>\n",
              "    </tr>\n",
              "    <tr>\n",
              "      <th>9</th>\n",
              "      <td>NaN</td>\n",
              "      <td>NaN</td>\n",
              "      <td>NaN</td>\n",
              "      <td>NaN</td>\n",
              "      <td>NaN</td>\n",
              "      <td>Arroz</td>\n",
              "      <td>NaN</td>\n",
              "    </tr>\n",
              "  </tbody>\n",
              "</table>\n",
              "</div>"
            ],
            "text/plain": [
              "       0     1        2    3         4      5       6\n",
              "0    NaN  Cafe      NaN  Pao  Manteiga    NaN     NaN\n",
              "1  Leite   NaN  Cerveja  Pao  Manteiga    NaN     NaN\n",
              "2    NaN  Cafe      NaN  Pao  Manteiga    NaN     NaN\n",
              "3  Leite  Cafe      NaN  Pao  Manteiga    NaN     NaN\n",
              "4    NaN   NaN  Cerveja  NaN       NaN    NaN     NaN\n",
              "5    NaN   NaN      NaN  NaN  Manteiga    NaN     NaN\n",
              "6    NaN   NaN      NaN  Pao       NaN    NaN     NaN\n",
              "7    NaN   NaN      NaN  NaN       NaN    NaN  Feijao\n",
              "8    NaN   NaN      NaN  NaN       NaN  Arroz  Feijao\n",
              "9    NaN   NaN      NaN  NaN       NaN  Arroz     NaN"
            ]
          },
          "execution_count": 37,
          "metadata": {},
          "output_type": "execute_result"
        }
      ],
      "source": [
        "base= pd.read_csv('MercadoSim.csv', delimiter=';', encoding='utf-8', header=None)\n",
        "base"
      ]
    },
    {
      "cell_type": "code",
      "execution_count": 38,
      "metadata": {
        "colab": {
          "base_uri": "https://localhost:8080/"
        },
        "id": "bqUKr_T8PXYn",
        "outputId": "68304296-8afa-4e2b-d8de-6f36dcdcf343"
      },
      "outputs": [
        {
          "data": {
            "text/plain": [
              "(10, 7)"
            ]
          },
          "execution_count": 38,
          "metadata": {},
          "output_type": "execute_result"
        }
      ],
      "source": [
        "base.shape"
      ]
    },
    {
      "cell_type": "markdown",
      "metadata": {
        "id": "cQyNolxV37tx"
      },
      "source": [
        "**Como estaremos treinando um modelo a priori, que recebe entradas em formato de lista, precisamos transformar o dataframe em uma lista de transações.**"
      ]
    },
    {
      "cell_type": "code",
      "execution_count": 39,
      "metadata": {
        "id": "ZF8i0EdWCMjY"
      },
      "outputs": [],
      "source": [
        "transacoes = []\n",
        "for i in range(len(base)):\n",
        "  transacoes.append([str(base.values[i, j]) for j in range(base.shape[1])])"
      ]
    },
    {
      "cell_type": "code",
      "execution_count": 40,
      "metadata": {
        "colab": {
          "base_uri": "https://localhost:8080/"
        },
        "id": "XH2CNc6VC3e3",
        "outputId": "1f2140b6-70de-44e5-f984-a5d3618aa65b"
      },
      "outputs": [
        {
          "data": {
            "text/plain": [
              "[['nan', 'Cafe', 'nan', 'Pao', 'Manteiga', 'nan', 'nan'],\n",
              " ['Leite', 'nan', 'Cerveja', 'Pao', 'Manteiga', 'nan', 'nan'],\n",
              " ['nan', 'Cafe', 'nan', 'Pao', 'Manteiga', 'nan', 'nan'],\n",
              " ['Leite', 'Cafe', 'nan', 'Pao', 'Manteiga', 'nan', 'nan'],\n",
              " ['nan', 'nan', 'Cerveja', 'nan', 'nan', 'nan', 'nan'],\n",
              " ['nan', 'nan', 'nan', 'nan', 'Manteiga', 'nan', 'nan'],\n",
              " ['nan', 'nan', 'nan', 'Pao', 'nan', 'nan', 'nan'],\n",
              " ['nan', 'nan', 'nan', 'nan', 'nan', 'nan', 'Feijao'],\n",
              " ['nan', 'nan', 'nan', 'nan', 'nan', 'Arroz', 'Feijao'],\n",
              " ['nan', 'nan', 'nan', 'nan', 'nan', 'Arroz', 'nan']]"
            ]
          },
          "execution_count": 40,
          "metadata": {},
          "output_type": "execute_result"
        }
      ],
      "source": [
        "transacoes"
      ]
    },
    {
      "cell_type": "markdown",
      "metadata": {
        "id": "ggzA0uJg_3Ns"
      },
      "source": [
        "**Vamos chamar executar o algoritmo apriori e armazenar as regras obtidas**"
      ]
    },
    {
      "cell_type": "code",
      "execution_count": 41,
      "metadata": {
        "colab": {
          "base_uri": "https://localhost:8080/"
        },
        "id": "DuX5YuabzqfQ",
        "outputId": "759da255-e827-43c6-828c-20255075316b"
      },
      "outputs": [
        {
          "data": {
            "text/plain": [
              "[RelationRecord(items=frozenset({'nan'}), support=1.0, ordered_statistics=[OrderedStatistic(items_base=frozenset(), items_add=frozenset({'nan'}), confidence=1.0, lift=1.0)]),\n",
              " RelationRecord(items=frozenset({'Cafe', 'Manteiga'}), support=0.3, ordered_statistics=[OrderedStatistic(items_base=frozenset({'Cafe'}), items_add=frozenset({'Manteiga'}), confidence=1.0, lift=2.0)]),\n",
              " RelationRecord(items=frozenset({'Cafe', 'Pao'}), support=0.3, ordered_statistics=[OrderedStatistic(items_base=frozenset({'Cafe'}), items_add=frozenset({'Pao'}), confidence=1.0, lift=2.0)]),\n",
              " RelationRecord(items=frozenset({'Cafe', 'nan'}), support=0.3, ordered_statistics=[OrderedStatistic(items_base=frozenset({'Cafe'}), items_add=frozenset({'nan'}), confidence=1.0, lift=1.0)]),\n",
              " RelationRecord(items=frozenset({'Manteiga', 'Pao'}), support=0.4, ordered_statistics=[OrderedStatistic(items_base=frozenset({'Manteiga'}), items_add=frozenset({'Pao'}), confidence=0.8, lift=1.6), OrderedStatistic(items_base=frozenset({'Pao'}), items_add=frozenset({'Manteiga'}), confidence=0.8, lift=1.6)]),\n",
              " RelationRecord(items=frozenset({'Manteiga', 'nan'}), support=0.5, ordered_statistics=[OrderedStatistic(items_base=frozenset({'Manteiga'}), items_add=frozenset({'nan'}), confidence=1.0, lift=1.0)]),\n",
              " RelationRecord(items=frozenset({'nan', 'Pao'}), support=0.5, ordered_statistics=[OrderedStatistic(items_base=frozenset({'Pao'}), items_add=frozenset({'nan'}), confidence=1.0, lift=1.0)]),\n",
              " RelationRecord(items=frozenset({'Cafe', 'Manteiga', 'Pao'}), support=0.3, ordered_statistics=[OrderedStatistic(items_base=frozenset({'Cafe'}), items_add=frozenset({'Manteiga', 'Pao'}), confidence=1.0, lift=2.5), OrderedStatistic(items_base=frozenset({'Cafe', 'Manteiga'}), items_add=frozenset({'Pao'}), confidence=1.0, lift=2.0), OrderedStatistic(items_base=frozenset({'Cafe', 'Pao'}), items_add=frozenset({'Manteiga'}), confidence=1.0, lift=2.0)]),\n",
              " RelationRecord(items=frozenset({'Cafe', 'Manteiga', 'nan'}), support=0.3, ordered_statistics=[OrderedStatistic(items_base=frozenset({'Cafe'}), items_add=frozenset({'Manteiga', 'nan'}), confidence=1.0, lift=2.0), OrderedStatistic(items_base=frozenset({'Cafe', 'Manteiga'}), items_add=frozenset({'nan'}), confidence=1.0, lift=1.0), OrderedStatistic(items_base=frozenset({'Cafe', 'nan'}), items_add=frozenset({'Manteiga'}), confidence=1.0, lift=2.0)]),\n",
              " RelationRecord(items=frozenset({'nan', 'Cafe', 'Pao'}), support=0.3, ordered_statistics=[OrderedStatistic(items_base=frozenset({'Cafe'}), items_add=frozenset({'Pao', 'nan'}), confidence=1.0, lift=2.0), OrderedStatistic(items_base=frozenset({'Cafe', 'Pao'}), items_add=frozenset({'nan'}), confidence=1.0, lift=1.0), OrderedStatistic(items_base=frozenset({'Cafe', 'nan'}), items_add=frozenset({'Pao'}), confidence=1.0, lift=2.0)]),\n",
              " RelationRecord(items=frozenset({'nan', 'Manteiga', 'Pao'}), support=0.4, ordered_statistics=[OrderedStatistic(items_base=frozenset({'Manteiga'}), items_add=frozenset({'Pao', 'nan'}), confidence=0.8, lift=1.6), OrderedStatistic(items_base=frozenset({'Pao'}), items_add=frozenset({'Manteiga', 'nan'}), confidence=0.8, lift=1.6), OrderedStatistic(items_base=frozenset({'Manteiga', 'Pao'}), items_add=frozenset({'nan'}), confidence=1.0, lift=1.0), OrderedStatistic(items_base=frozenset({'Manteiga', 'nan'}), items_add=frozenset({'Pao'}), confidence=0.8, lift=1.6), OrderedStatistic(items_base=frozenset({'nan', 'Pao'}), items_add=frozenset({'Manteiga'}), confidence=0.8, lift=1.6)]),\n",
              " RelationRecord(items=frozenset({'nan', 'Cafe', 'Manteiga', 'Pao'}), support=0.3, ordered_statistics=[OrderedStatistic(items_base=frozenset({'Cafe'}), items_add=frozenset({'Pao', 'Manteiga', 'nan'}), confidence=1.0, lift=2.5), OrderedStatistic(items_base=frozenset({'Cafe', 'Manteiga'}), items_add=frozenset({'Pao', 'nan'}), confidence=1.0, lift=2.0), OrderedStatistic(items_base=frozenset({'Cafe', 'Pao'}), items_add=frozenset({'Manteiga', 'nan'}), confidence=1.0, lift=2.0), OrderedStatistic(items_base=frozenset({'Cafe', 'nan'}), items_add=frozenset({'Manteiga', 'Pao'}), confidence=1.0, lift=2.5), OrderedStatistic(items_base=frozenset({'Cafe', 'Manteiga', 'Pao'}), items_add=frozenset({'nan'}), confidence=1.0, lift=1.0), OrderedStatistic(items_base=frozenset({'Cafe', 'Manteiga', 'nan'}), items_add=frozenset({'Pao'}), confidence=1.0, lift=2.0), OrderedStatistic(items_base=frozenset({'nan', 'Cafe', 'Pao'}), items_add=frozenset({'Manteiga'}), confidence=1.0, lift=2.0)])]"
            ]
          },
          "execution_count": 41,
          "metadata": {},
          "output_type": "execute_result"
        }
      ],
      "source": [
        "regras = apriori(transacoes, min_support = 0.3, min_confidence = 0.8)\n",
        "saida = list(regras) \n",
        "saida"
      ]
    },
    {
      "cell_type": "code",
      "execution_count": 42,
      "metadata": {
        "colab": {
          "base_uri": "https://localhost:8080/"
        },
        "id": "l4vMQUJfHu0e",
        "outputId": "9506e5dd-0644-4baa-9bd9-946a815b2d62"
      },
      "outputs": [
        {
          "data": {
            "text/plain": [
              "RelationRecord(items=frozenset({'nan'}), support=1.0, ordered_statistics=[OrderedStatistic(items_base=frozenset(), items_add=frozenset({'nan'}), confidence=1.0, lift=1.0)])"
            ]
          },
          "execution_count": 42,
          "metadata": {},
          "output_type": "execute_result"
        }
      ],
      "source": [
        "saida[0]"
      ]
    },
    {
      "cell_type": "code",
      "execution_count": 43,
      "metadata": {
        "colab": {
          "base_uri": "https://localhost:8080/"
        },
        "id": "M0hNno4uPcs9",
        "outputId": "f8ae8a58-6414-48c0-bade-7a03b4f3f97c"
      },
      "outputs": [
        {
          "data": {
            "text/plain": [
              "RelationRecord(items=frozenset({'Cafe', 'Manteiga'}), support=0.3, ordered_statistics=[OrderedStatistic(items_base=frozenset({'Cafe'}), items_add=frozenset({'Manteiga'}), confidence=1.0, lift=2.0)])"
            ]
          },
          "execution_count": 43,
          "metadata": {},
          "output_type": "execute_result"
        }
      ],
      "source": [
        "saida[1]"
      ]
    },
    {
      "cell_type": "code",
      "execution_count": 44,
      "metadata": {
        "colab": {
          "base_uri": "https://localhost:8080/"
        },
        "id": "0ZMoSVL_9aXP",
        "outputId": "43a09394-2792-4963-ed70-e0f1d3af4a17"
      },
      "outputs": [
        {
          "data": {
            "text/plain": [
              "RelationRecord(items=frozenset({'Cafe', 'Pao'}), support=0.3, ordered_statistics=[OrderedStatistic(items_base=frozenset({'Cafe'}), items_add=frozenset({'Pao'}), confidence=1.0, lift=2.0)])"
            ]
          },
          "execution_count": 44,
          "metadata": {},
          "output_type": "execute_result"
        }
      ],
      "source": [
        "saida[2]"
      ]
    },
    {
      "cell_type": "code",
      "execution_count": 45,
      "metadata": {
        "id": "UWDno2uo4aL0"
      },
      "outputs": [],
      "source": [
        "Antecedente = []\n",
        "Consequente = []\n",
        "suporte = []\n",
        "confianca = []\n",
        "lift = []\n",
        "\n",
        "for resultado in saida:\n",
        "  s = resultado[1]\n",
        "  result_rules = resultado[2]\n",
        "  for result_rule in result_rules:\n",
        "    a = list(result_rule[0])\n",
        "    b = list(result_rule[1])\n",
        "    c = result_rule[2]\n",
        "    l = result_rule[3]\n",
        "    if 'nan' in a or 'nan' in b: continue\n",
        "    if len(a) == 0 or len(b) == 0: continue\n",
        "    Antecedente.append(a)\n",
        "    Consequente.append(b)\n",
        "    suporte.append(s)\n",
        "    confianca.append(c)\n",
        "    lift.append(l)\n",
        "    RegrasFinais = pd.DataFrame({'Antecedente': Antecedente, 'Consequente': Consequente, 'suporte': suporte, 'confianca': confianca, 'lift': lift})"
      ]
    },
    {
      "cell_type": "code",
      "execution_count": 46,
      "metadata": {
        "colab": {
          "base_uri": "https://localhost:8080/",
          "height": 112
        },
        "id": "A7X_YwVHhaxf",
        "outputId": "27c00b86-4295-4b16-b49f-f3bbf3d34c9e"
      },
      "outputs": [
        {
          "data": {
            "text/html": [
              "<div>\n",
              "<style scoped>\n",
              "    .dataframe tbody tr th:only-of-type {\n",
              "        vertical-align: middle;\n",
              "    }\n",
              "\n",
              "    .dataframe tbody tr th {\n",
              "        vertical-align: top;\n",
              "    }\n",
              "\n",
              "    .dataframe thead th {\n",
              "        text-align: right;\n",
              "    }\n",
              "</style>\n",
              "<table border=\"1\" class=\"dataframe\">\n",
              "  <thead>\n",
              "    <tr style=\"text-align: right;\">\n",
              "      <th></th>\n",
              "      <th>Antecedente</th>\n",
              "      <th>Consequente</th>\n",
              "      <th>suporte</th>\n",
              "      <th>confianca</th>\n",
              "      <th>lift</th>\n",
              "    </tr>\n",
              "  </thead>\n",
              "  <tbody>\n",
              "    <tr>\n",
              "      <th>4</th>\n",
              "      <td>[Cafe]</td>\n",
              "      <td>[Manteiga, Pao]</td>\n",
              "      <td>0.3</td>\n",
              "      <td>1.0</td>\n",
              "      <td>2.5</td>\n",
              "    </tr>\n",
              "    <tr>\n",
              "      <th>0</th>\n",
              "      <td>[Cafe]</td>\n",
              "      <td>[Manteiga]</td>\n",
              "      <td>0.3</td>\n",
              "      <td>1.0</td>\n",
              "      <td>2.0</td>\n",
              "    </tr>\n",
              "    <tr>\n",
              "      <th>1</th>\n",
              "      <td>[Cafe]</td>\n",
              "      <td>[Pao]</td>\n",
              "      <td>0.3</td>\n",
              "      <td>1.0</td>\n",
              "      <td>2.0</td>\n",
              "    </tr>\n",
              "    <tr>\n",
              "      <th>5</th>\n",
              "      <td>[Cafe, Manteiga]</td>\n",
              "      <td>[Pao]</td>\n",
              "      <td>0.3</td>\n",
              "      <td>1.0</td>\n",
              "      <td>2.0</td>\n",
              "    </tr>\n",
              "    <tr>\n",
              "      <th>6</th>\n",
              "      <td>[Cafe, Pao]</td>\n",
              "      <td>[Manteiga]</td>\n",
              "      <td>0.3</td>\n",
              "      <td>1.0</td>\n",
              "      <td>2.0</td>\n",
              "    </tr>\n",
              "    <tr>\n",
              "      <th>2</th>\n",
              "      <td>[Manteiga]</td>\n",
              "      <td>[Pao]</td>\n",
              "      <td>0.4</td>\n",
              "      <td>0.8</td>\n",
              "      <td>1.6</td>\n",
              "    </tr>\n",
              "    <tr>\n",
              "      <th>3</th>\n",
              "      <td>[Pao]</td>\n",
              "      <td>[Manteiga]</td>\n",
              "      <td>0.4</td>\n",
              "      <td>0.8</td>\n",
              "      <td>1.6</td>\n",
              "    </tr>\n",
              "  </tbody>\n",
              "</table>\n",
              "</div>"
            ],
            "text/plain": [
              "        Antecedente      Consequente  suporte  confianca  lift\n",
              "4            [Cafe]  [Manteiga, Pao]      0.3        1.0   2.5\n",
              "0            [Cafe]       [Manteiga]      0.3        1.0   2.0\n",
              "1            [Cafe]            [Pao]      0.3        1.0   2.0\n",
              "5  [Cafe, Manteiga]            [Pao]      0.3        1.0   2.0\n",
              "6       [Cafe, Pao]       [Manteiga]      0.3        1.0   2.0\n",
              "2        [Manteiga]            [Pao]      0.4        0.8   1.6\n",
              "3             [Pao]       [Manteiga]      0.4        0.8   1.6"
            ]
          },
          "execution_count": 46,
          "metadata": {},
          "output_type": "execute_result"
        }
      ],
      "source": [
        "RegrasFinais.sort_values(by='lift', ascending =False)"
      ]
    },
    {
      "cell_type": "markdown",
      "metadata": {},
      "source": [
        "# Questao 4"
      ]
    },
    {
      "cell_type": "code",
      "execution_count": 47,
      "metadata": {},
      "outputs": [
        {
          "name": "stdout",
          "output_type": "stream",
          "text": [
            "RelationRecord(items=frozenset({'Manteiga', 'NOT_Leite'}), support=0.375, ordered_statistics=[OrderedStatistic(items_base=frozenset({'Manteiga'}), items_add=frozenset({'NOT_Leite'}), confidence=1.0, lift=1.0)])\n",
            "RelationRecord(items=frozenset({'Pao', 'NOT_Leite'}), support=0.375, ordered_statistics=[OrderedStatistic(items_base=frozenset({'Pao'}), items_add=frozenset({'NOT_Leite'}), confidence=1.0, lift=1.0)])\n",
            "RelationRecord(items=frozenset({'NOT_Cerveja', 'Cafe'}), support=0.375, ordered_statistics=[OrderedStatistic(items_base=frozenset({'Cafe'}), items_add=frozenset({'NOT_Cerveja'}), confidence=1.0, lift=1.0)])\n",
            "RelationRecord(items=frozenset({'NOT_Cerveja', 'Manteiga'}), support=0.5, ordered_statistics=[OrderedStatistic(items_base=frozenset({'Manteiga'}), items_add=frozenset({'NOT_Cerveja'}), confidence=1.0, lift=1.0)])\n",
            "RelationRecord(items=frozenset({'NOT_Cerveja', 'Pao'}), support=0.5, ordered_statistics=[OrderedStatistic(items_base=frozenset({'Pao'}), items_add=frozenset({'NOT_Cerveja'}), confidence=1.0, lift=1.0)])\n",
            "RelationRecord(items=frozenset({'NOT_Cerveja', 'Cafe', 'Manteiga'}), support=0.375, ordered_statistics=[OrderedStatistic(items_base=frozenset({'Cafe'}), items_add=frozenset({'NOT_Cerveja', 'Manteiga'}), confidence=1.0, lift=2.0), OrderedStatistic(items_base=frozenset({'Cafe', 'Manteiga'}), items_add=frozenset({'NOT_Cerveja'}), confidence=1.0, lift=1.0), OrderedStatistic(items_base=frozenset({'NOT_Cerveja', 'Cafe'}), items_add=frozenset({'Manteiga'}), confidence=1.0, lift=2.0)])\n",
            "RelationRecord(items=frozenset({'NOT_Cerveja', 'Cafe', 'Pao'}), support=0.375, ordered_statistics=[OrderedStatistic(items_base=frozenset({'Cafe'}), items_add=frozenset({'NOT_Cerveja', 'Pao'}), confidence=1.0, lift=2.0), OrderedStatistic(items_base=frozenset({'NOT_Cerveja', 'Cafe'}), items_add=frozenset({'Pao'}), confidence=1.0, lift=2.0), OrderedStatistic(items_base=frozenset({'Cafe', 'Pao'}), items_add=frozenset({'NOT_Cerveja'}), confidence=1.0, lift=1.0)])\n",
            "RelationRecord(items=frozenset({'NOT_Cerveja', 'Manteiga', 'Pao'}), support=0.375, ordered_statistics=[OrderedStatistic(items_base=frozenset({'Manteiga', 'Pao'}), items_add=frozenset({'NOT_Cerveja'}), confidence=1.0, lift=1.0)])\n",
            "RelationRecord(items=frozenset({'NOT_Cerveja', 'Cafe', 'Manteiga', 'Pao'}), support=0.375, ordered_statistics=[OrderedStatistic(items_base=frozenset({'Cafe'}), items_add=frozenset({'NOT_Cerveja', 'Manteiga', 'Pao'}), confidence=1.0, lift=2.6666666666666665), OrderedStatistic(items_base=frozenset({'Cafe', 'Manteiga'}), items_add=frozenset({'NOT_Cerveja', 'Pao'}), confidence=1.0, lift=2.0), OrderedStatistic(items_base=frozenset({'NOT_Cerveja', 'Cafe'}), items_add=frozenset({'Manteiga', 'Pao'}), confidence=1.0, lift=2.6666666666666665), OrderedStatistic(items_base=frozenset({'Cafe', 'Pao'}), items_add=frozenset({'NOT_Cerveja', 'Manteiga'}), confidence=1.0, lift=2.0), OrderedStatistic(items_base=frozenset({'Manteiga', 'Pao'}), items_add=frozenset({'NOT_Cerveja', 'Cafe'}), confidence=1.0, lift=2.6666666666666665), OrderedStatistic(items_base=frozenset({'NOT_Cerveja', 'Cafe', 'Manteiga'}), items_add=frozenset({'Pao'}), confidence=1.0, lift=2.0), OrderedStatistic(items_base=frozenset({'Cafe', 'Manteiga', 'Pao'}), items_add=frozenset({'NOT_Cerveja'}), confidence=1.0, lift=1.0), OrderedStatistic(items_base=frozenset({'NOT_Cerveja', 'Cafe', 'Pao'}), items_add=frozenset({'Manteiga'}), confidence=1.0, lift=2.0), OrderedStatistic(items_base=frozenset({'NOT_Cerveja', 'Manteiga', 'Pao'}), items_add=frozenset({'Cafe'}), confidence=1.0, lift=2.6666666666666665)])\n",
            "RelationRecord(items=frozenset({'Arroz', 'NOT_Pao'}), support=0.4, ordered_statistics=[OrderedStatistic(items_base=frozenset({'Arroz'}), items_add=frozenset({'NOT_Pao'}), confidence=1.0, lift=1.0)])\n",
            "RelationRecord(items=frozenset({'Feijao', 'NOT_Pao'}), support=0.4, ordered_statistics=[OrderedStatistic(items_base=frozenset({'Feijao'}), items_add=frozenset({'NOT_Pao'}), confidence=1.0, lift=1.0)])\n",
            "RelationRecord(items=frozenset({'Arroz', 'NOT_Manteiga'}), support=0.4, ordered_statistics=[OrderedStatistic(items_base=frozenset({'Arroz'}), items_add=frozenset({'NOT_Manteiga'}), confidence=1.0, lift=1.0)])\n",
            "RelationRecord(items=frozenset({'Feijao', 'NOT_Manteiga'}), support=0.4, ordered_statistics=[OrderedStatistic(items_base=frozenset({'Feijao'}), items_add=frozenset({'NOT_Manteiga'}), confidence=1.0, lift=1.0)])\n",
            "RelationRecord(items=frozenset({'NOT_Arroz', 'Cafe'}), support=0.375, ordered_statistics=[OrderedStatistic(items_base=frozenset({'Cafe'}), items_add=frozenset({'NOT_Arroz'}), confidence=1.0, lift=1.0)])\n",
            "RelationRecord(items=frozenset({'NOT_Arroz', 'Manteiga'}), support=0.625, ordered_statistics=[OrderedStatistic(items_base=frozenset({'Manteiga'}), items_add=frozenset({'NOT_Arroz'}), confidence=1.0, lift=1.0)])\n",
            "RelationRecord(items=frozenset({'NOT_Arroz', 'Pao'}), support=0.625, ordered_statistics=[OrderedStatistic(items_base=frozenset({'Pao'}), items_add=frozenset({'NOT_Arroz'}), confidence=1.0, lift=1.0)])\n",
            "RelationRecord(items=frozenset({'NOT_Arroz', 'Cafe', 'Manteiga'}), support=0.375, ordered_statistics=[OrderedStatistic(items_base=frozenset({'Cafe'}), items_add=frozenset({'NOT_Arroz', 'Manteiga'}), confidence=1.0, lift=1.6), OrderedStatistic(items_base=frozenset({'Cafe', 'Manteiga'}), items_add=frozenset({'NOT_Arroz'}), confidence=1.0, lift=1.0), OrderedStatistic(items_base=frozenset({'NOT_Arroz', 'Cafe'}), items_add=frozenset({'Manteiga'}), confidence=1.0, lift=1.6)])\n",
            "RelationRecord(items=frozenset({'NOT_Arroz', 'Cafe', 'Pao'}), support=0.375, ordered_statistics=[OrderedStatistic(items_base=frozenset({'Cafe'}), items_add=frozenset({'NOT_Arroz', 'Pao'}), confidence=1.0, lift=1.6), OrderedStatistic(items_base=frozenset({'NOT_Arroz', 'Cafe'}), items_add=frozenset({'Pao'}), confidence=1.0, lift=1.6), OrderedStatistic(items_base=frozenset({'Cafe', 'Pao'}), items_add=frozenset({'NOT_Arroz'}), confidence=1.0, lift=1.0)])\n",
            "RelationRecord(items=frozenset({'NOT_Arroz', 'Manteiga', 'Pao'}), support=0.5, ordered_statistics=[OrderedStatistic(items_base=frozenset({'Manteiga'}), items_add=frozenset({'NOT_Arroz', 'Pao'}), confidence=0.8, lift=1.28), OrderedStatistic(items_base=frozenset({'Pao'}), items_add=frozenset({'NOT_Arroz', 'Manteiga'}), confidence=0.8, lift=1.28), OrderedStatistic(items_base=frozenset({'NOT_Arroz', 'Manteiga'}), items_add=frozenset({'Pao'}), confidence=0.8, lift=1.28), OrderedStatistic(items_base=frozenset({'Manteiga', 'Pao'}), items_add=frozenset({'NOT_Arroz'}), confidence=1.0, lift=1.0), OrderedStatistic(items_base=frozenset({'NOT_Arroz', 'Pao'}), items_add=frozenset({'Manteiga'}), confidence=0.8, lift=1.28)])\n",
            "RelationRecord(items=frozenset({'NOT_Arroz', 'Cafe', 'Manteiga', 'Pao'}), support=0.375, ordered_statistics=[OrderedStatistic(items_base=frozenset({'Cafe'}), items_add=frozenset({'NOT_Arroz', 'Manteiga', 'Pao'}), confidence=1.0, lift=2.0), OrderedStatistic(items_base=frozenset({'Cafe', 'Manteiga'}), items_add=frozenset({'NOT_Arroz', 'Pao'}), confidence=1.0, lift=1.6), OrderedStatistic(items_base=frozenset({'NOT_Arroz', 'Cafe'}), items_add=frozenset({'Manteiga', 'Pao'}), confidence=1.0, lift=2.0), OrderedStatistic(items_base=frozenset({'Cafe', 'Pao'}), items_add=frozenset({'NOT_Arroz', 'Manteiga'}), confidence=1.0, lift=1.6), OrderedStatistic(items_base=frozenset({'NOT_Arroz', 'Cafe', 'Manteiga'}), items_add=frozenset({'Pao'}), confidence=1.0, lift=1.6), OrderedStatistic(items_base=frozenset({'Cafe', 'Manteiga', 'Pao'}), items_add=frozenset({'NOT_Arroz'}), confidence=1.0, lift=1.0), OrderedStatistic(items_base=frozenset({'NOT_Arroz', 'Cafe', 'Pao'}), items_add=frozenset({'Manteiga'}), confidence=1.0, lift=1.6)])\n",
            "RelationRecord(items=frozenset({'NOT_Feijao', 'Cafe'}), support=0.375, ordered_statistics=[OrderedStatistic(items_base=frozenset({'Cafe'}), items_add=frozenset({'NOT_Feijao'}), confidence=1.0, lift=1.0)])\n",
            "RelationRecord(items=frozenset({'NOT_Feijao', 'Manteiga'}), support=0.625, ordered_statistics=[OrderedStatistic(items_base=frozenset({'Manteiga'}), items_add=frozenset({'NOT_Feijao'}), confidence=1.0, lift=1.0)])\n",
            "RelationRecord(items=frozenset({'NOT_Feijao', 'Pao'}), support=0.625, ordered_statistics=[OrderedStatistic(items_base=frozenset({'Pao'}), items_add=frozenset({'NOT_Feijao'}), confidence=1.0, lift=1.0)])\n",
            "RelationRecord(items=frozenset({'NOT_Feijao', 'Cafe', 'Manteiga'}), support=0.375, ordered_statistics=[OrderedStatistic(items_base=frozenset({'Cafe'}), items_add=frozenset({'NOT_Feijao', 'Manteiga'}), confidence=1.0, lift=1.6), OrderedStatistic(items_base=frozenset({'Cafe', 'Manteiga'}), items_add=frozenset({'NOT_Feijao'}), confidence=1.0, lift=1.0), OrderedStatistic(items_base=frozenset({'NOT_Feijao', 'Cafe'}), items_add=frozenset({'Manteiga'}), confidence=1.0, lift=1.6)])\n",
            "RelationRecord(items=frozenset({'NOT_Feijao', 'Cafe', 'Pao'}), support=0.375, ordered_statistics=[OrderedStatistic(items_base=frozenset({'Cafe'}), items_add=frozenset({'NOT_Feijao', 'Pao'}), confidence=1.0, lift=1.6), OrderedStatistic(items_base=frozenset({'NOT_Feijao', 'Cafe'}), items_add=frozenset({'Pao'}), confidence=1.0, lift=1.6), OrderedStatistic(items_base=frozenset({'Cafe', 'Pao'}), items_add=frozenset({'NOT_Feijao'}), confidence=1.0, lift=1.0)])\n",
            "RelationRecord(items=frozenset({'NOT_Feijao', 'Manteiga', 'Pao'}), support=0.5, ordered_statistics=[OrderedStatistic(items_base=frozenset({'Manteiga'}), items_add=frozenset({'NOT_Feijao', 'Pao'}), confidence=0.8, lift=1.28), OrderedStatistic(items_base=frozenset({'Pao'}), items_add=frozenset({'NOT_Feijao', 'Manteiga'}), confidence=0.8, lift=1.28), OrderedStatistic(items_base=frozenset({'NOT_Feijao', 'Manteiga'}), items_add=frozenset({'Pao'}), confidence=0.8, lift=1.28), OrderedStatistic(items_base=frozenset({'Manteiga', 'Pao'}), items_add=frozenset({'NOT_Feijao'}), confidence=1.0, lift=1.0), OrderedStatistic(items_base=frozenset({'NOT_Feijao', 'Pao'}), items_add=frozenset({'Manteiga'}), confidence=0.8, lift=1.28)])\n",
            "RelationRecord(items=frozenset({'NOT_Feijao', 'Cafe', 'Manteiga', 'Pao'}), support=0.375, ordered_statistics=[OrderedStatistic(items_base=frozenset({'Cafe'}), items_add=frozenset({'NOT_Feijao', 'Manteiga', 'Pao'}), confidence=1.0, lift=2.0), OrderedStatistic(items_base=frozenset({'Cafe', 'Manteiga'}), items_add=frozenset({'NOT_Feijao', 'Pao'}), confidence=1.0, lift=1.6), OrderedStatistic(items_base=frozenset({'NOT_Feijao', 'Cafe'}), items_add=frozenset({'Manteiga', 'Pao'}), confidence=1.0, lift=2.0), OrderedStatistic(items_base=frozenset({'Cafe', 'Pao'}), items_add=frozenset({'NOT_Feijao', 'Manteiga'}), confidence=1.0, lift=1.6), OrderedStatistic(items_base=frozenset({'NOT_Feijao', 'Cafe', 'Manteiga'}), items_add=frozenset({'Pao'}), confidence=1.0, lift=1.6), OrderedStatistic(items_base=frozenset({'Cafe', 'Manteiga', 'Pao'}), items_add=frozenset({'NOT_Feijao'}), confidence=1.0, lift=1.0), OrderedStatistic(items_base=frozenset({'NOT_Feijao', 'Cafe', 'Pao'}), items_add=frozenset({'Manteiga'}), confidence=1.0, lift=1.6)])\n"
          ]
        }
      ],
      "source": [
        "# 1. Load the dataset\n",
        "base = pd.read_csv('MercadoSim.csv', delimiter=';', encoding='utf-8', header=None)\n",
        "\n",
        "# 2. Create transactions representing the absence of an item AND the presence of others\n",
        "all_rules = []\n",
        "unique_items = pd.unique(base.values.ravel('K'))\n",
        "unique_items = unique_items[~pd.isnull(unique_items)]\n",
        "\n",
        "for item in unique_items:\n",
        "    # Create transactions where the item is absent\n",
        "    absent_transactions = base[base.isnull().any(axis=1) & (base != item).all(axis=1)].values.tolist()\n",
        "    absent_transactions = [[elem for elem in trans if isinstance(elem, str)] + [f\"NOT_{item}\"] for trans in absent_transactions]\n",
        "\n",
        "    # Apply Apriori\n",
        "    regras = apriori(absent_transactions, min_support=0.3, min_confidence=0.8)\n",
        "    all_rules.extend(list(regras))\n",
        "\n",
        "# Filter and print rules where the antecedent is the absence of an item\n",
        "filtered_rules = [rule for rule in all_rules if any([\"NOT_\" in item for item in rule[0]]) and len(rule[0]) > 1]\n",
        "for rule in filtered_rules:\n",
        "    print(rule)"
      ]
    },
    {
      "cell_type": "code",
      "execution_count": 48,
      "metadata": {},
      "outputs": [
        {
          "data": {
            "text/html": [
              "<div>\n",
              "<style scoped>\n",
              "    .dataframe tbody tr th:only-of-type {\n",
              "        vertical-align: middle;\n",
              "    }\n",
              "\n",
              "    .dataframe tbody tr th {\n",
              "        vertical-align: top;\n",
              "    }\n",
              "\n",
              "    .dataframe thead th {\n",
              "        text-align: right;\n",
              "    }\n",
              "</style>\n",
              "<table border=\"1\" class=\"dataframe\">\n",
              "  <thead>\n",
              "    <tr style=\"text-align: right;\">\n",
              "      <th></th>\n",
              "      <th>Antecedente</th>\n",
              "      <th>Consequente</th>\n",
              "      <th>Suporte</th>\n",
              "      <th>Confiança</th>\n",
              "      <th>Lift</th>\n",
              "    </tr>\n",
              "  </thead>\n",
              "  <tbody>\n",
              "    <tr>\n",
              "      <th>0</th>\n",
              "      <td>[Manteiga]</td>\n",
              "      <td>[NOT_Leite]</td>\n",
              "      <td>0.375</td>\n",
              "      <td>1.0</td>\n",
              "      <td>1.0</td>\n",
              "    </tr>\n",
              "    <tr>\n",
              "      <th>1</th>\n",
              "      <td>[Pao]</td>\n",
              "      <td>[NOT_Leite]</td>\n",
              "      <td>0.375</td>\n",
              "      <td>1.0</td>\n",
              "      <td>1.0</td>\n",
              "    </tr>\n",
              "    <tr>\n",
              "      <th>2</th>\n",
              "      <td>[Cafe]</td>\n",
              "      <td>[NOT_Cerveja]</td>\n",
              "      <td>0.375</td>\n",
              "      <td>1.0</td>\n",
              "      <td>1.0</td>\n",
              "    </tr>\n",
              "    <tr>\n",
              "      <th>3</th>\n",
              "      <td>[Manteiga]</td>\n",
              "      <td>[NOT_Cerveja]</td>\n",
              "      <td>0.500</td>\n",
              "      <td>1.0</td>\n",
              "      <td>1.0</td>\n",
              "    </tr>\n",
              "    <tr>\n",
              "      <th>4</th>\n",
              "      <td>[Pao]</td>\n",
              "      <td>[NOT_Cerveja]</td>\n",
              "      <td>0.500</td>\n",
              "      <td>1.0</td>\n",
              "      <td>1.0</td>\n",
              "    </tr>\n",
              "    <tr>\n",
              "      <th>...</th>\n",
              "      <td>...</td>\n",
              "      <td>...</td>\n",
              "      <td>...</td>\n",
              "      <td>...</td>\n",
              "      <td>...</td>\n",
              "    </tr>\n",
              "    <tr>\n",
              "      <th>62</th>\n",
              "      <td>[NOT_Feijao, Cafe]</td>\n",
              "      <td>[Manteiga, Pao]</td>\n",
              "      <td>0.375</td>\n",
              "      <td>1.0</td>\n",
              "      <td>2.0</td>\n",
              "    </tr>\n",
              "    <tr>\n",
              "      <th>63</th>\n",
              "      <td>[Cafe, Pao]</td>\n",
              "      <td>[NOT_Feijao, Manteiga]</td>\n",
              "      <td>0.375</td>\n",
              "      <td>1.0</td>\n",
              "      <td>1.6</td>\n",
              "    </tr>\n",
              "    <tr>\n",
              "      <th>64</th>\n",
              "      <td>[NOT_Feijao, Cafe, Manteiga]</td>\n",
              "      <td>[Pao]</td>\n",
              "      <td>0.375</td>\n",
              "      <td>1.0</td>\n",
              "      <td>1.6</td>\n",
              "    </tr>\n",
              "    <tr>\n",
              "      <th>65</th>\n",
              "      <td>[Cafe, Manteiga, Pao]</td>\n",
              "      <td>[NOT_Feijao]</td>\n",
              "      <td>0.375</td>\n",
              "      <td>1.0</td>\n",
              "      <td>1.0</td>\n",
              "    </tr>\n",
              "    <tr>\n",
              "      <th>66</th>\n",
              "      <td>[NOT_Feijao, Cafe, Pao]</td>\n",
              "      <td>[Manteiga]</td>\n",
              "      <td>0.375</td>\n",
              "      <td>1.0</td>\n",
              "      <td>1.6</td>\n",
              "    </tr>\n",
              "  </tbody>\n",
              "</table>\n",
              "<p>67 rows × 5 columns</p>\n",
              "</div>"
            ],
            "text/plain": [
              "                     Antecedente             Consequente  Suporte  Confiança  \\\n",
              "0                     [Manteiga]             [NOT_Leite]    0.375        1.0   \n",
              "1                          [Pao]             [NOT_Leite]    0.375        1.0   \n",
              "2                         [Cafe]           [NOT_Cerveja]    0.375        1.0   \n",
              "3                     [Manteiga]           [NOT_Cerveja]    0.500        1.0   \n",
              "4                          [Pao]           [NOT_Cerveja]    0.500        1.0   \n",
              "..                           ...                     ...      ...        ...   \n",
              "62            [NOT_Feijao, Cafe]         [Manteiga, Pao]    0.375        1.0   \n",
              "63                   [Cafe, Pao]  [NOT_Feijao, Manteiga]    0.375        1.0   \n",
              "64  [NOT_Feijao, Cafe, Manteiga]                   [Pao]    0.375        1.0   \n",
              "65         [Cafe, Manteiga, Pao]            [NOT_Feijao]    0.375        1.0   \n",
              "66       [NOT_Feijao, Cafe, Pao]              [Manteiga]    0.375        1.0   \n",
              "\n",
              "    Lift  \n",
              "0    1.0  \n",
              "1    1.0  \n",
              "2    1.0  \n",
              "3    1.0  \n",
              "4    1.0  \n",
              "..   ...  \n",
              "62   2.0  \n",
              "63   1.6  \n",
              "64   1.6  \n",
              "65   1.0  \n",
              "66   1.6  \n",
              "\n",
              "[67 rows x 5 columns]"
            ]
          },
          "execution_count": 48,
          "metadata": {},
          "output_type": "execute_result"
        }
      ],
      "source": [
        "# Listas para armazenar informações sobre as regras\n",
        "Antecedente = []\n",
        "Consequente = []\n",
        "suporte = []\n",
        "confianca = []\n",
        "lift = []\n",
        "\n",
        "# Processando cada regra filtrada\n",
        "for rule in filtered_rules:\n",
        "    s = rule[1]\n",
        "    result_rules = rule[2]\n",
        "    for result_rule in result_rules:\n",
        "        a = list(result_rule[0])\n",
        "        b = list(result_rule[1])\n",
        "        c = result_rule[2]\n",
        "        l = result_rule[3]\n",
        "        \n",
        "        # Filtrando regras que contêm 'nan' e garantindo que os antecedentes/consequentes não estejam vazios\n",
        "        if 'nan' in a or 'nan' in b: continue\n",
        "        if len(a) == 0 or len(b) == 0: continue\n",
        "        \n",
        "        # Adicionando os detalhes à lista\n",
        "        Antecedente.append(a)\n",
        "        Consequente.append(b)\n",
        "        suporte.append(s)\n",
        "        confianca.append(c)\n",
        "        lift.append(l)\n",
        "\n",
        "# Criando o DataFrame final com os detalhes das regras\n",
        "RegrasFinais = pd.DataFrame({\n",
        "    'Antecedente': Antecedente,\n",
        "    'Consequente': Consequente,\n",
        "    'Suporte': suporte,\n",
        "    'Confiança': confianca,\n",
        "    'Lift': lift\n",
        "})\n",
        "\n",
        "RegrasFinais"
      ]
    },
    {
      "cell_type": "code",
      "execution_count": null,
      "metadata": {},
      "outputs": [],
      "source": []
    }
  ],
  "metadata": {
    "colab": {
      "provenance": []
    },
    "kernelspec": {
      "display_name": "Python 3",
      "name": "python3"
    },
    "language_info": {
      "codemirror_mode": {
        "name": "ipython",
        "version": 3
      },
      "file_extension": ".py",
      "mimetype": "text/x-python",
      "name": "python",
      "nbconvert_exporter": "python",
      "pygments_lexer": "ipython3",
      "version": "3.11.5"
    }
  },
  "nbformat": 4,
  "nbformat_minor": 0
}
